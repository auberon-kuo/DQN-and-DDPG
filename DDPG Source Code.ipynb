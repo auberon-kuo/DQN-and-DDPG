{
 "cells": [
  {
   "cell_type": "code",
   "execution_count": 16,
   "metadata": {},
   "outputs": [],
   "source": [
    "import gym\n",
    "import matplotlib.pyplot as plt\n",
    "from IPython.display import clear_output\n",
    "import time\n",
    "import torch\n",
    "from torch import nn\n",
    "from torch.autograd import Variable\n",
    "import numpy as np"
   ]
  },
  {
   "cell_type": "markdown",
   "metadata": {},
   "source": [
    "ref from https://github.com/ghliu/pytorch-ddpg/blob/master"
   ]
  },
  {
   "cell_type": "code",
   "execution_count": 17,
   "metadata": {},
   "outputs": [],
   "source": [
    "class NormalizedAction(gym.ActionWrapper):\n",
    "    \"\"\" Wrap action \"\"\"\n",
    "\n",
    "    def action(self, action):\n",
    "        act_k = (self.action_space.high - self.action_space.low)/ 2.\n",
    "        act_b = (self.action_space.high + self.action_space.low)/ 2.\n",
    "        return act_k * action + act_b\n",
    "\n",
    "    def reverse_action(self, action):\n",
    "        act_k_inv = 2./(self.action_space.high - self.action_space.low)\n",
    "        act_b = (self.action_space.high + self.action_space.low)/ 2.\n",
    "        return act_k_inv * (action - act_b)\n",
    "    \n",
    "class NormalizedObservation(gym.ObservationWrapper):\n",
    "    def observation(self, observation):\n",
    "        d = self.observation_space.high - self.observation_space.low\n",
    "        return ((observation - self.observation_space.low) / d) * 2 - 1"
   ]
  },
  {
   "cell_type": "code",
   "execution_count": 18,
   "metadata": {},
   "outputs": [],
   "source": [
    "def myrender(self, title=''):\n",
    "    plt.title(title)\n",
    "    plt.imshow(self.old_render(mode='rgb_array'))\n",
    "    plt.axis('off')\n",
    "    plt.show()\n",
    "    clear_output(wait=True)\n",
    "    time.sleep(1/30)\n",
    "    \n",
    "def wrapper_gymenv(env):\n",
    "    env = NormalizedAction(env)\n",
    "    #env = NormalizedObservation(env)\n",
    "    env.old_render = env.render\n",
    "    env.render = lambda title='': myrender(env, title)\n",
    "    return env"
   ]
  },
  {
   "cell_type": "code",
   "execution_count": 19,
   "metadata": {},
   "outputs": [
    {
     "data": {
      "image/png": "[encoded data removed]",
      "text/plain": [
       "<Figure size 432x288 with 1 Axes>"
      ]
     },
     "metadata": {
      "needs_background": "light"
     },
     "output_type": "display_data"
    }
   ],
   "source": [
    "env = gym.make('Pendulum-v0')\n",
    "env = wrapper_gymenv(env)\n",
    "env.reset()\n",
    "env.render()"
   ]
  },
  {
   "cell_type": "code",
   "execution_count": 20,
   "metadata": {},
   "outputs": [],
   "source": [
    "def fanin_init(size, fanin=None):\n",
    "    fanin = fanin or size[0]\n",
    "    v = 1. / np.sqrt(fanin)\n",
    "    return torch.Tensor(size).uniform_(-v, v)\n",
    "\n",
    "class Actor(nn.Module):\n",
    "    def __init__(self, osize, asize, init_w=3e-3):\n",
    "        super(Actor, self).__init__()\n",
    "        \n",
    "        self.osize = osize\n",
    "        self.asize = asize\n",
    "        \n",
    "        self.main = nn.Sequential(\n",
    "            nn.Linear(self.osize, 400),\n",
    "            nn.ReLU(inplace=True),\n",
    "            nn.Linear(400, 300),\n",
    "            nn.ReLU(inplace=True),\n",
    "            nn.Linear(300, self.asize),\n",
    "            nn.Tanh(),\n",
    "        )\n",
    "        \n",
    "        self.initweight(init_w)\n",
    "    \n",
    "    def initweight(self, init_w):\n",
    "        count = 0\n",
    "        for m in self.main.modules():\n",
    "            if isinstance(m, nn.Linear):\n",
    "                count += 1\n",
    "                m.bias.data.fill_(0.0)\n",
    "                if count < 3:\n",
    "                    m.weight.data = fanin_init(m.weight.data.size())\n",
    "                else:\n",
    "                    m.weight.data.uniform_(-init_w, init_w)\n",
    "        #print('actor init count '+str(count))\n",
    "    \n",
    "    def forward(self, x):\n",
    "        out = self.main(x)\n",
    "        return out\n",
    "\n",
    "class Critic(nn.Module):\n",
    "    def __init__(self, osize, asize, init_w=3e-3):\n",
    "        super(Critic, self).__init__()\n",
    "        \n",
    "        self.osize = osize\n",
    "        self.asize = asize\n",
    "        \n",
    "        self.main1 = nn.Sequential(\n",
    "            nn.Linear(self.osize, 400),\n",
    "            nn.ReLU(inplace=True),\n",
    "        )\n",
    "        \n",
    "        self.main2 = nn.Sequential(\n",
    "            nn.Linear(400 + self.asize, 300),\n",
    "            nn.ReLU(inplace=True),\n",
    "            nn.Linear(300, 1),\n",
    "        )\n",
    "        \n",
    "        self.initweight(init_w)\n",
    "    \n",
    "    def initweight(self, init_w):\n",
    "        count = 0\n",
    "        for m in list(self.main1.modules()) + list(self.main2.modules()):\n",
    "            if isinstance(m, nn.Linear):\n",
    "                count += 1\n",
    "                m.bias.data.fill_(0.0)\n",
    "                if count < 3:\n",
    "                    m.weight.data = fanin_init(m.weight.data.size())\n",
    "                else:\n",
    "                    m.weight.data.uniform_(-init_w, init_w)\n",
    "        #print('critic init count '+str(count))\n",
    "    \n",
    "    def forward(self, x, a):\n",
    "        out = self.main1(x)\n",
    "        out = self.main2(torch.cat([out,a.reshape(-1,1)],1))\n",
    "        return out"
   ]
  },
  {
   "cell_type": "code",
   "execution_count": 21,
   "metadata": {},
   "outputs": [],
   "source": [
    "class Buffer():\n",
    "    def __init__(self, osize, asize, size):\n",
    "        self.osize = osize\n",
    "        self.asize = asize\n",
    "        # s , a, r, s'\n",
    "        self.buffer = np.zeros( (size, osize + asize + 1 + osize + 1) )\n",
    "        self.buffer_size = size\n",
    "        self.buffer_count = 0\n",
    "        \n",
    "    def store(self, s, a, r, s_next, done):\n",
    "        transition = np.hstack((s, [a, r], s_next, done))\n",
    "        self.buffer[self.buffer_count%self.buffer_size, : ] = transition\n",
    "        self.buffer_count += 1\n",
    "        \n",
    "    def miniBatch(self, batch_size):\n",
    "        pick_i = np.random.choice(\n",
    "            self.buffer_size if self.buffer_count > self.buffer_size else self.buffer_count, \n",
    "            size=batch_size\n",
    "        )\n",
    "        x = self.buffer[pick_i, :]\n",
    "        \n",
    "        return x[:, :self.osize], x[:, self.osize:self.osize + self.asize], x[:, self.osize+1].reshape(-1,1), x[:, -(self.osize+1):-1], x[:, -1].reshape(-1,1)"
   ]
  },
  {
   "cell_type": "code",
   "execution_count": 22,
   "metadata": {},
   "outputs": [],
   "source": [
    "# [reference] https://github.com/matthiasplappert/keras-rl/blob/master/rl/random.py\n",
    "\n",
    "class RandomProcess(object):\n",
    "    def reset_states(self):\n",
    "        pass\n",
    "\n",
    "class AnnealedGaussianProcess(RandomProcess):\n",
    "    def __init__(self, mu, sigma, sigma_min, n_steps_annealing):\n",
    "        self.mu = mu\n",
    "        self.sigma = sigma\n",
    "        self.n_steps = 0\n",
    "\n",
    "        if sigma_min is not None:\n",
    "            self.m = -float(sigma - sigma_min) / float(n_steps_annealing)\n",
    "            self.c = sigma\n",
    "            self.sigma_min = sigma_min\n",
    "        else:\n",
    "            self.m = 0.\n",
    "            self.c = sigma\n",
    "            self.sigma_min = sigma\n",
    "\n",
    "    @property\n",
    "    def current_sigma(self):\n",
    "        sigma = max(self.sigma_min, self.m * float(self.n_steps) + self.c)\n",
    "        return sigma\n",
    "\n",
    "\n",
    "# Based on http://math.stackexchange.com/questions/1287634/implementing-ornstein-uhlenbeck-in-matlab\n",
    "class OrnsteinUhlenbeckProcess(AnnealedGaussianProcess):\n",
    "    def __init__(self, theta=0.15, mu=0., sigma=0.2, dt=1e-2, x0=None, size=1, sigma_min=None, n_steps_annealing=1000):\n",
    "        super(OrnsteinUhlenbeckProcess, self).__init__(mu=mu, sigma=sigma, sigma_min=sigma_min, n_steps_annealing=n_steps_annealing)\n",
    "        self.theta = theta\n",
    "        self.mu = mu\n",
    "        self.dt = dt\n",
    "        self.x0 = x0\n",
    "        self.size = size\n",
    "        self.reset_states()\n",
    "\n",
    "    def sample(self):\n",
    "        x = self.x_prev + self.theta * (self.mu - self.x_prev) * self.dt + self.current_sigma * np.sqrt(self.dt) * np.random.normal(size=self.size)\n",
    "        self.x_prev = x\n",
    "        self.n_steps += 1\n",
    "        return x\n",
    "\n",
    "    def reset_states(self):\n",
    "        self.x_prev = self.x0 if self.x0 is not None else np.zeros(self.size)"
   ]
  },
  {
   "cell_type": "code",
   "execution_count": 23,
   "metadata": {},
   "outputs": [],
   "source": [
    "device = torch.device(\"cuda:0\")\n",
    "\n",
    "def soft_update(target, source, tau):\n",
    "    for target_param, param in zip(target.parameters(), source.parameters()):\n",
    "        target_param.data.copy_(\n",
    "            target_param.data * (1.0 - tau) + param.data * tau\n",
    "        )\n",
    "\n",
    "def to_tensor(ndarray, requires_grad=False):\n",
    "    if device.type == 'cpu':\n",
    "        dtype = torch.FloatTensor\n",
    "    else:\n",
    "        dtype = torch.cuda.FloatTensor\n",
    "    \n",
    "    return Variable(\n",
    "        torch.from_numpy(ndarray), requires_grad=requires_grad\n",
    "    ).type(dtype).to(device)\n",
    "\n",
    "def to_numpy(var):\n",
    "    return var.data.numpy() if device.type == 'cpu' else var.cpu().data.numpy() \n",
    "\n",
    "class DDPG(nn.Module):\n",
    "    def __init__(\n",
    "        self, observation_space, action_space\n",
    "    ):\n",
    "    \n",
    "        super(DDPG, self).__init__()\n",
    "    \n",
    "        self.observation_space = observation_space\n",
    "        self.action_space = action_space\n",
    "    \n",
    "        if len(observation_space.shape) > 0:\n",
    "            self.osize = observation_space.shape[0]\n",
    "        else:\n",
    "            raise NotImplementedError()\n",
    "            \n",
    "        if len(action_space.shape) > 0:\n",
    "            self.asize = action_space.shape[0]\n",
    "        else:\n",
    "            raise NotImplementedError()\n",
    "        \n",
    "        # u(s) -> dis of action\n",
    "        self.actor = Actor(self.osize, self.asize).to(device)\n",
    "        self.actor_ = Actor(self.osize, self.asize).to(device)\n",
    "        self.actor_optim = torch.optim.Adam(self.actor.parameters(), lr=1e-4)\n",
    "    \n",
    "        # Q(s, a) -> value\n",
    "        self.critic = Critic(self.osize, self.asize).to(device)\n",
    "        self.critic_ = Critic(self.osize, self.asize).to(device)\n",
    "        self.critic_optim = torch.optim.Adam(self.critic.parameters(), lr=1e-3)\n",
    "    \n",
    "        self.update()\n",
    "        \n",
    "        self.memory = Buffer(self.osize, self.asize, 10000)\n",
    "        self.store = self.memory.store\n",
    "        \n",
    "        self.criterion = nn.MSELoss()\n",
    "        \n",
    "        self.random_process = OrnsteinUhlenbeckProcess(size=self.asize)\n",
    "        \n",
    "        self.metrics = []\n",
    "        \n",
    "        self.epsilon = 1.0\n",
    "        self.depsilon = 1.0 / 50000\n",
    "        \n",
    "    def update(self, tau=None):\n",
    "        if tau is None:\n",
    "            self.actor_.load_state_dict(self.actor.state_dict())\n",
    "            self.critic_.load_state_dict(self.critic.state_dict())\n",
    "        else:\n",
    "            soft_update(self.actor_, self.actor, tau)\n",
    "            soft_update(self.critic_, self.critic, tau)\n",
    "            \n",
    "    def learn(self, batch_size, gamma=0.99):\n",
    "        s, a, r, s_, done = self.memory.miniBatch(batch_size)\n",
    "\n",
    "        with torch.no_grad():\n",
    "            q_ = self.critic_(\n",
    "                to_tensor(s_), \n",
    "                self.actor_(to_tensor(s_)) \n",
    "            )\n",
    "        \n",
    "        q_target = to_tensor(r) + ( gamma * to_tensor(1.0 - done.astype(np.float))*q_ )\n",
    "        q_target = q_target.detach()\n",
    "        \n",
    "        # Critic learn\n",
    "        self.critic_optim.zero_grad()\n",
    "        \n",
    "        #s = to_tensor(s)\n",
    "        q = self.critic(\n",
    "            to_tensor(s),\n",
    "            to_tensor(a)\n",
    "        )\n",
    "        loss_value = self.criterion(q, q_target)\n",
    "        loss_value.backward()\n",
    "        \n",
    "        self.critic_optim.step()\n",
    "        \n",
    "        # Actor learn\n",
    "        self.actor_optim.zero_grad()\n",
    "        \n",
    "        loss_policy = -self.critic(\n",
    "            to_tensor(s),\n",
    "            self.actor(to_tensor(s))\n",
    "        )\n",
    "        \n",
    "        loss_policy = loss_policy.mean()\n",
    "        loss_policy.backward()\n",
    "        \n",
    "        self.actor_optim.step()\n",
    "        \n",
    "        self.update(tau=1e-3)\n",
    "        \n",
    "        return loss_value, loss_policy\n",
    "    \n",
    "    def random_think(self):\n",
    "        action = np.random.uniform(-1.,1.,self.asize)\n",
    "        return action\n",
    "    \n",
    "    def think(self, observation, use_epsilon=False):\n",
    "        action = to_numpy(\n",
    "            self.actor(to_tensor(np.array([observation])))\n",
    "        ).squeeze(0)\n",
    "        if use_epsilon:\n",
    "            action += self.training*max(self.epsilon, 0)*self.random_process.sample()\n",
    "            self.epsilon -= self.depsilon\n",
    "        action = np.clip(action, -1., 1.)\n",
    "        return action\n",
    "    \n",
    "    def reset(self):\n",
    "        self.random_process.reset_states()"
   ]
  },
  {
   "cell_type": "code",
   "execution_count": 24,
   "metadata": {},
   "outputs": [],
   "source": [
    "def play(agent, show=True):\n",
    "    agent.eval()\n",
    "    s = env.reset()\n",
    "    score = 0.0\n",
    "    while True:\n",
    "        a = agent.think(s)\n",
    "        \n",
    "        s_, r, done, _ = env.step(a)\n",
    "            #print(r)\n",
    "        score += r\n",
    "        \n",
    "        if show:\n",
    "            print('score : {}, state: {}, action: {}'.format(score, s, a))\n",
    "            env.render()\n",
    "            \n",
    "        if done:\n",
    "            break\n",
    "        s = s_\n",
    "    return score"
   ]
  },
  {
   "cell_type": "code",
   "execution_count": 25,
   "metadata": {},
   "outputs": [],
   "source": [
    "def train(\n",
    "    agent, epoch_size, batch_size\n",
    "):\n",
    "    \n",
    "    for epoch in range(len(agent.metrics), epoch_size):\n",
    "        # play\n",
    "        \n",
    "        observation = env.reset()\n",
    "        score = 0.0\n",
    "        step = 0\n",
    "        \n",
    "        loss_v_t = []\n",
    "        loss_p_t = []\n",
    "        \n",
    "        agent.train()\n",
    "        agent.reset()\n",
    "        \n",
    "        while True:\n",
    "            \n",
    "            if agent.memory.buffer_count <= 100:\n",
    "                action = agent.random_think()\n",
    "            else:\n",
    "                action = agent.think(observation, True)\n",
    "                \n",
    "            # do action\n",
    "            observation_next, reward, done, info = env.step(action)\n",
    "            step += 1\n",
    "            \n",
    "            agent.store(observation, action, reward, observation_next, done)\n",
    "            \n",
    "            if agent.memory.buffer_count > 100:\n",
    "                loss_value, loss_policy = agent.learn(batch_size)\n",
    "                loss_v_t.append(loss_value.item())\n",
    "                loss_p_t.append(loss_policy.item())\n",
    "            \n",
    "            # update state\n",
    "            observation = observation_next\n",
    "            \n",
    "            if done:\n",
    "                break\n",
    "        \n",
    "        test_score = np.mean([play(agent, show=False) for _ in range(100)])\n",
    "        \n",
    "        # metrics\n",
    "        loss_v_t = np.average(loss_v_t) if len(loss_v_t) > 0 else 0.0\n",
    "        loss_p_t = np.average(loss_p_t) if len(loss_p_t) > 0 else 0.0\n",
    "            \n",
    "        agent.metrics.append( (test_score, loss_v_t, loss_p_t) )\n",
    "        \n",
    "        clear_output(wait=True)\n",
    "        print('#{:6.0f}: score : {:5.4f}'.format(epoch, test_score))"
   ]
  },
  {
   "cell_type": "code",
   "execution_count": 26,
   "metadata": {},
   "outputs": [],
   "source": [
    "def evaluation(\n",
    "    agent, eval_size\n",
    "):\n",
    "    scores = []\n",
    "    for i in range(eval_size):\n",
    "        scores.append( play(agent, show=False) )\n",
    "    \n",
    "    print('mean = {}, max = {}'.format(np.mean(scores), np.max(scores)))\n",
    "    \n",
    "    return scores"
   ]
  },
  {
   "cell_type": "code",
   "execution_count": 27,
   "metadata": {},
   "outputs": [],
   "source": [
    "env = gym.make('Pendulum-v0')\n",
    "env._max_episode_steps = 200\n",
    "env = wrapper_gymenv(env)\n",
    "torch.manual_seed(201906)\n",
    "torch.cuda.manual_seed(201906)\n",
    "env.seed(201906)\n",
    "agent = DDPG(env.observation_space, env.action_space)"
   ]
  },
  {
   "cell_type": "code",
   "execution_count": 28,
   "metadata": {},
   "outputs": [
    {
     "name": "stdout",
     "output_type": "stream",
     "text": [
      "#  3499: score : -173.6158\n",
      "CPU times: user 5h 15min 3s, sys: 4min 52s, total: 5h 19min 56s\n",
      "Wall time: 5h 20min 16s\n"
     ]
    }
   ],
   "source": [
    "%%time\n",
    "train(agent, 3500, 64)"
   ]
  },
  {
   "cell_type": "code",
   "execution_count": 29,
   "metadata": {},
   "outputs": [],
   "source": [
    "def showMetrics(agent):\n",
    "    m = np.array(agent.metrics)\n",
    "    \n",
    "    plt.title('Total reward curve')\n",
    "    plt.plot(m[:, 0])\n",
    "    plt.xlabel('epoch')\n",
    "    plt.ylabel('score')\n",
    "    plt.show()\n",
    "    \n",
    "    plt.title('Loss curve')\n",
    "    plt.plot(m[:, 1], label='value')\n",
    "    plt.plot(m[:, 2], label='policy')\n",
    "    plt.xlabel('epoch')\n",
    "    plt.ylabel('loss')\n",
    "    plt.legend()\n",
    "    plt.show()"
   ]
  },
  {
   "cell_type": "code",
   "execution_count": 30,
   "metadata": {},
   "outputs": [
    {
     "data": {
      "image/png": "[encoded data removed]",
      "text/plain": [
       "<Figure size 432x288 with 1 Axes>"
      ]
     },
     "metadata": {
      "needs_background": "light"
     },
     "output_type": "display_data"
    },
    {
     "data": {
      "image/png": "[encoded data removed]",
      "text/plain": [
       "<Figure size 432x288 with 1 Axes>"
      ]
     },
     "metadata": {
      "needs_background": "light"
     },
     "output_type": "display_data"
    }
   ],
   "source": [
    "showMetrics(agent)"
   ]
  },
  {
   "cell_type": "code",
   "execution_count": 31,
   "metadata": {},
   "outputs": [
    {
     "data": {
      "text/plain": [
       "-130.0233435800297"
      ]
     },
     "execution_count": 31,
     "metadata": {},
     "output_type": "execute_result"
    }
   ],
   "source": [
    "play(agent)"
   ]
  },
  {
   "cell_type": "code",
   "execution_count": 32,
   "metadata": {},
   "outputs": [
    {
     "name": "stdout",
     "output_type": "stream",
     "text": [
      "mean = -182.1428653895491, max = -15.71970581879962\n"
     ]
    }
   ],
   "source": [
    "max_mean_reward = evaluation(agent, 100)"
   ]
  },
  {
   "cell_type": "code",
   "execution_count": null,
   "metadata": {},
   "outputs": [],
   "source": [
    "_ = evaluation(agent, 100)"
   ]
  }
 ],
 "metadata": {
  "kernelspec": {
   "display_name": "Python 3",
   "language": "python",
   "name": "python3"
  },
  "language_info": {
   "codemirror_mode": {
    "name": "ipython",
    "version": 3
   },
   "file_extension": ".py",
   "mimetype": "text/x-python",
   "name": "python",
   "nbconvert_exporter": "python",
   "pygments_lexer": "ipython3",
   "version": "3.7.3"
  }
 },
 "nbformat": 4,
 "nbformat_minor": 2
}
